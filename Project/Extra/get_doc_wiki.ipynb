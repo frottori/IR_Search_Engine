{
 "cells": [
  {
   "cell_type": "markdown",
   "metadata": {},
   "source": [
    "# Method 1"
   ]
  },
  {
   "cell_type": "markdown",
   "metadata": {},
   "source": [
    "## A) Using wikipedia"
   ]
  },
  {
   "cell_type": "code",
   "execution_count": 1,
   "metadata": {},
   "outputs": [
    {
     "ename": "ModuleNotFoundError",
     "evalue": "No module named 'wikipedia'",
     "output_type": "error",
     "traceback": [
      "\u001b[0;31m---------------------------------------------------------------------------\u001b[0m",
      "\u001b[0;31mModuleNotFoundError\u001b[0m                       Traceback (most recent call last)",
      "Cell \u001b[0;32mIn[1], line 2\u001b[0m\n\u001b[1;32m      1\u001b[0m \u001b[38;5;66;03m# Import packages\u001b[39;00m\n\u001b[0;32m----> 2\u001b[0m \u001b[38;5;28;01mimport\u001b[39;00m \u001b[38;5;21;01mwikipedia\u001b[39;00m\n\u001b[1;32m      4\u001b[0m \u001b[38;5;66;03m# Specify the title of the Wikipedia page\u001b[39;00m\n\u001b[1;32m      5\u001b[0m wiki \u001b[38;5;241m=\u001b[39m wikipedia\u001b[38;5;241m.\u001b[39mpage(\u001b[38;5;124m'\u001b[39m\u001b[38;5;124mJohn D. Hunter\u001b[39m\u001b[38;5;124m'\u001b[39m)\n",
      "\u001b[0;31mModuleNotFoundError\u001b[0m: No module named 'wikipedia'"
     ]
    }
   ],
   "source": [
    "# Import packages\n",
    "import wikipedia\n",
    "\n",
    "# Specify the title of the Wikipedia page\n",
    "wiki = wikipedia.page('John D. Hunter')\n",
    "\n",
    "# Extract the plain text content of the page, excluding images, tables, and other data.\n",
    "text = wiki.content\n",
    "\n",
    "# Replace '==' with '' (an empty string)\n",
    "text = text.replace('==', '')\n",
    "\n",
    "# Replace '\\n' (a new line) with '' & end the string at $1000.\n",
    "text = text.replace('\\n', '')[:-12]\n",
    "print(text)"
   ]
  },
  {
   "cell_type": "markdown",
   "metadata": {},
   "source": [
    "## Using urllib & BeatifulSoup"
   ]
  },
  {
   "cell_type": "code",
   "execution_count": null,
   "metadata": {},
   "outputs": [
    {
     "name": "stdout",
     "output_type": "stream",
     "text": [
      "[]\n"
     ]
    }
   ],
   "source": [
    "# Import packages\n",
    "from urllib.request import urlopen\n",
    "from bs4 import BeautifulSoup\n",
    "import re\n",
    "\n",
    "# Specify url of the web page\n",
    "source = urlopen('https://en.wikipedia.org/wiki/Science').read()\n",
    "\n",
    "# Make a soup \n",
    "soup = BeautifulSoup(source,'lxml')\n",
    "\n",
    "# Extract the plain text content from paragraphs\n",
    "paras = []\n",
    "for paragraph in soup.find_all('p'):\n",
    "    paras.append(str(paragraph.text))\n",
    "\n",
    "# Extract text from paragraph headers\n",
    "heads = []\n",
    "for head in soup.find_all('span', attrs={'mw-headline'}):\n",
    "    heads.append(str(head.text))\n",
    "\n",
    "# Interleave paragraphs & headers\n",
    "text = [val for pair in zip(paras, heads) for val in pair]\n",
    "text = ' '.join(text)\n",
    "\n",
    "# Drop footnote superscripts in brackets\n",
    "text = re.sub(r\"\\[.*?\\]+\", '', text)\n",
    "\n",
    "# Replace '\\n' (a new line) with '' and end the string at $1000.\n",
    "text = text.replace('\\n', '')[:-11]"
   ]
  },
  {
   "cell_type": "markdown",
   "metadata": {},
   "source": [
    "# Method 2"
   ]
  },
  {
   "cell_type": "code",
   "execution_count": null,
   "metadata": {},
   "outputs": [],
   "source": [
    "# https://en.wikipedia.org/wiki/Python_(programming_language)\n",
    "# https://www.mediawiki.org/wiki/API:Main_page\n",
    "\n",
    "# 1. Get a plain text representation of either the entire page or the page \"extract\" straight from the API with the extracts prop\n",
    "\n",
    "# Note that this approach only works on MediaWiki sites with the TextExtracts extension. This notably includes Wikipedia, but not some smaller Mediawiki sites like, say, http://www.wikia.com/\n",
    "\n",
    "# You want to hit a URL like\n",
    "\n",
    "# https://en.wikipedia.org/w/api.php?action=query&format=json&titles=Bla_Bla_Bla&prop=extracts&exintro&explaintext\n",
    "\n",
    "# Breaking that down, we've got the following parameters in there (documented at https://www.mediawiki.org/wiki/Extension:TextExtracts#query+extracts):\n",
    "\n",
    "# action=query, format=json, and title=Bla_Bla_Bla are all standard MediaWiki API parameters\n",
    "# prop=extracts makes us use the TextExtracts extension\n",
    "# exintro limits the response to content before the first section heading\n",
    "# explaintext makes the extract in the response be plain text instead of HTML\n",
    "# Then parse the JSON response and extract the extract:\n",
    "\n",
    "import requests\n",
    "response = requests.get(\n",
    "    'https://en.wikipedia.org/w/api.php',\n",
    "    params={\n",
    "        'action': 'query',\n",
    "        'format': 'json',\n",
    "        'titles': 'Python_(programming_language)',\n",
    "        'prop': 'extracts',\n",
    "        'exintro': True,\n",
    "        'explaintext': True,\n",
    "    }).json()\n",
    "page = next(iter(response['query']['pages'].values()))\n",
    "print(page['extract'])\n",
    "\n",
    "\n",
    "# 2. Get the full HTML of the page using the parse endpoint, parse it, and extract the first paragraph\n",
    "# MediaWiki has a parse endpoint that you can hit with a URL like https://en.wikipedia.org/w/api.php?action=parse&page=Bla_Bla_Bla to get the HTML of a page. You can then parse it with an HTML parser like lxml (install it first with pip install lxml) to extract the first paragraph.\n",
    "\n",
    "# For example:\n",
    "\n",
    "import requests\n",
    "from lxml import html\n",
    "response = requests.get(\n",
    "    'https://en.wikipedia.org/w/api.php',\n",
    "    params={\n",
    "        'action': 'parse',\n",
    "        'page': 'Python_(programming_language)',\n",
    "        'format': 'json',\n",
    "    }).json()\n",
    "raw_html = response['parse']['text']['*']\n",
    "document = html.document_fromstring(raw_html)\n",
    "first_p = document.xpath('//p')[0]\n",
    "intro_text = first_p.text_content()\n",
    "print(intro_text)\n",
    "\n",
    "# 3. Parse wikitext yourself\n",
    "# You can use the query API to get the page's wikitext, parse it using mwparserfromhell (install it first using pip install mwparserfromhell), then reduce it down to human-readable text using strip_code. strip_code doesn't work perfectly at the time of writing (as shown clearly in the example below) but will hopefully improve.\n",
    "import requests\n",
    "import mwparserfromhell\n",
    "response = requests.get(\n",
    "    'https://en.wikipedia.org/w/api.php',\n",
    "    params={\n",
    "        'action': 'query',\n",
    "        'format': 'json',\n",
    "        'titles': 'Python_(programming_language)',\n",
    "        'prop': 'revisions',\n",
    "        'rvprop': 'content'\n",
    "    }).json()\n",
    "page = next(iter(response['query']['pages'].values()))\n",
    "wikicode = page['revisions'][0]['*']\n",
    "parsed_wikicode = mwparserfromhell.parse(wikicode)\n",
    "print(parsed_wikicode.strip_code())"
   ]
  },
  {
   "cell_type": "markdown",
   "metadata": {},
   "source": [
    "## Methods\n",
    "> **[Two simple ways to scrape text from Wikipedia in Python](https://gist.github.com/zluvsand/6c1b2c8b5098d88081bf5988138019f2)**\n",
    "\n",
    "> **[GetWiki.py](https://gist.github.com/scionoftech/0f35d5e231be2cf46823d774023268b6)**\n"
   ]
  }
 ],
 "metadata": {
  "kernelspec": {
   "display_name": "base",
   "language": "python",
   "name": "python3"
  },
  "language_info": {
   "codemirror_mode": {
    "name": "ipython",
    "version": 3
   },
   "file_extension": ".py",
   "mimetype": "text/x-python",
   "name": "python",
   "nbconvert_exporter": "python",
   "pygments_lexer": "ipython3",
   "version": "3.11.7"
  }
 },
 "nbformat": 4,
 "nbformat_minor": 2
}

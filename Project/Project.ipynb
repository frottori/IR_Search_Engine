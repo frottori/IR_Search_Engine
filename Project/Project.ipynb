{
 "cells": [
  {
   "cell_type": "markdown",
   "metadata": {},
   "source": [
    "# Project - Search Engine"
   ]
  },
  {
   "cell_type": "markdown",
   "metadata": {},
   "source": [
    "## Βήμα 1: Συλλογή Δεδομένων"
   ]
  },
  {
   "cell_type": "markdown",
   "metadata": {},
   "source": [
    "### H συνάρτηση Crawl"
   ]
  },
  {
   "cell_type": "code",
   "execution_count": 42,
   "metadata": {},
   "outputs": [],
   "source": [
    "import requests\n",
    "from bs4 import BeautifulSoup\n",
    "\n",
    "def crawl_wikipedia(url):\n",
    "    data = []\n",
    "    response = requests.get(url)\n",
    "    if response.status_code == 200:\n",
    "        soup = BeautifulSoup(response.text, 'html.parser')\n",
    "\n",
    "        # Εξαγωγή τίτλου και κειμένου\n",
    "        title = soup.find(\"h1\").text # βρίσκει h1 html tag (header1) και επιστρέφει το κείμενο του\n",
    "        paragraphs = [p.text for p in soup.find_all(\"p\")] # βρίσκει όλα τα p html tags (paragraph) και επιστρέφει το κείμενο τους\n",
    "        content = \" | \".join(paragraphs) # διαχωριστής των παραγράφων το σύμβολο \" | \"\n",
    "        data.append({'title': title, 'content': content}) # προσθήκη τίτλου και περιεχομένου στη λίστα data\n",
    "        \n",
    "        # Συλλογή τίτλων και περιγραφών\n",
    "        # for item in soup.select('.mw-parser-output > p'):\n",
    "        #     title = soup.title.string\n",
    "        #     description = item.get_text(strip=True)\n",
    "        #     if description:\n",
    "        #         data.append({'title': title, 'description': description})\n",
    "    else: \n",
    "        print('Error:' + response.status_code)\n",
    "    \n",
    "    return data"
   ]
  },
  {
   "cell_type": "markdown",
   "metadata": {},
   "source": [
    "### Χρηση της συνάρτησης Crawl"
   ]
  },
  {
   "cell_type": "code",
   "execution_count": 44,
   "metadata": {},
   "outputs": [],
   "source": [
    "# Λίστα άρθρων για συλλογή \n",
    "articles = [\"Science\", \"Technology\", \"Engineering\", \"Computer\"]\n",
    "collected_data = []\n",
    "\n",
    "for article in articles:\n",
    "    url = 'https://en.wikipedia.org/wiki/' + article\n",
    "    collected_data.extend(crawl_wikipedia(url))"
   ]
  },
  {
   "cell_type": "markdown",
   "metadata": {},
   "source": [
    "### Αποθήκευση σε JSON"
   ]
  },
  {
   "cell_type": "code",
   "execution_count": 45,
   "metadata": {},
   "outputs": [],
   "source": [
    "import json\n",
    "with open('Files/wikipedia_data.json', 'w', encoding='utf-8') as f:\n",
    "    json.dump(collected_data, f, ensure_ascii=False, indent=4)"
   ]
  },
  {
   "cell_type": "markdown",
   "metadata": {},
   "source": [
    "### Αποθήκευση σε CSV "
   ]
  },
  {
   "cell_type": "code",
   "execution_count": 46,
   "metadata": {},
   "outputs": [],
   "source": [
    "import csv\n",
    "with open('Files/wikipedia_data.csv', 'w', newline='', encoding='utf-8') as f:\n",
    "    writer = csv.DictWriter(f, fieldnames=['title', 'content'])\n",
    "    writer.writeheader()\n",
    "    writer.writerows(collected_data)"
   ]
  },
  {
   "cell_type": "markdown",
   "metadata": {},
   "source": [
    "**ΕΔΩ ΘΑ ΕΞΗΓΗΣΟΥΜΕ ΤΙ ΖΗΤΑΕΙ ΤΟ ΟΡΟΣΗΜΟ**\n",
    "- Περιγραφή συνόλου δεδομένων \n",
    "- Περιγραφή της μεθοδολογίας συλλογής του. (crawl_wikipedia)"
   ]
  },
  {
   "cell_type": "markdown",
   "metadata": {},
   "source": [
    "## Βήμα 2: Προεπεξεργασία Κειμένου (Text Processing)"
   ]
  }
 ],
 "metadata": {
  "kernelspec": {
   "display_name": "base",
   "language": "python",
   "name": "python3"
  },
  "language_info": {
   "codemirror_mode": {
    "name": "ipython",
    "version": 3
   },
   "file_extension": ".py",
   "mimetype": "text/x-python",
   "name": "python",
   "nbconvert_exporter": "python",
   "pygments_lexer": "ipython3",
   "version": "3.11.7"
  }
 },
 "nbformat": 4,
 "nbformat_minor": 2
}

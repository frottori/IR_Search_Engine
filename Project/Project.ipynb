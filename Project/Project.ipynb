{
 "cells": [
  {
   "cell_type": "markdown",
   "metadata": {},
   "source": [
    "# Project - Search Engine"
   ]
  },
  {
   "cell_type": "markdown",
   "metadata": {},
   "source": [
    "## Βήμα 1: Συλλογή Δεδομένων"
   ]
  },
  {
   "cell_type": "markdown",
   "metadata": {},
   "source": [
    "### H συνάρτηση Crawl"
   ]
  },
  {
   "cell_type": "code",
   "execution_count": 2,
   "metadata": {},
   "outputs": [],
   "source": [
    "import requests\n",
    "from bs4 import BeautifulSoup\n",
    "\n",
    "def crawl_wikipedia(url):\n",
    "    data = []\n",
    "    response = requests.get(url)\n",
    "    if response.status_code == 200:\n",
    "        soup = BeautifulSoup(response.text, 'html.parser')\n",
    "\n",
    "        # Εξαγωγή τίτλου και κειμένου\n",
    "        title = soup.find(\"h1\").text # βρίσκει h1 html tag (header1) και επιστρέφει το κείμενο του\n",
    "        paragraphs = [p.text for p in soup.find_all(\"p\")] # βρίσκει όλα τα p html tags (paragraph) και επιστρέφει το κείμενο τους\n",
    "        content = \"\\n\".join(paragraphs) # διαχωριστής των παραγράφων το σύμβολο \" | \"\n",
    "        data.append({'title': title, 'content': content}) # προσθήκη τίτλου και περιεχομένου στη λίστα data\n",
    "        \n",
    "        # Συλλογή τίτλων και περιγραφών\n",
    "        # for item in soup.select('.mw-parser-output > p'):\n",
    "        #     title = soup.title.string\n",
    "        #     description = item.get_text(strip=True)\n",
    "        #     if description:\n",
    "        #         data.append({'title': title, 'description': description})\n",
    "    else: \n",
    "        print('Error:' + response.status_code)\n",
    "    \n",
    "    return data"
   ]
  },
  {
   "cell_type": "markdown",
   "metadata": {},
   "source": [
    "### Χρηση της συνάρτησης Crawl"
   ]
  },
  {
   "cell_type": "code",
   "execution_count": 3,
   "metadata": {},
   "outputs": [],
   "source": [
    "# Λίστα άρθρων για συλλογή \n",
    "articles = [\"Science\", \"Technology\", \"Engineering\", \"Computer\"]\n",
    "collected_data = []\n",
    "\n",
    "for article in articles:\n",
    "    url = 'https://en.wikipedia.org/wiki/' + article\n",
    "    collected_data.extend(crawl_wikipedia(url))"
   ]
  },
  {
   "cell_type": "markdown",
   "metadata": {},
   "source": [
    "### Αποθήκευση σε JSON"
   ]
  },
  {
   "cell_type": "code",
   "execution_count": 5,
   "metadata": {},
   "outputs": [],
   "source": [
    "import json\n",
    "def save_json(data, filename):\n",
    "    with open('Files/' + filename, 'w', encoding='utf-8') as f:\n",
    "        json.dump(data, f, ensure_ascii=False, indent=4)\n",
    "        \n",
    "# Αποθήκευση δεδομένων σε json αρχείο\n",
    "save_json(collected_data, 'wiki_data.json')"
   ]
  },
  {
   "cell_type": "markdown",
   "metadata": {},
   "source": [
    "### Αποθήκευση σε CSV "
   ]
  },
  {
   "cell_type": "code",
   "execution_count": 6,
   "metadata": {},
   "outputs": [],
   "source": [
    "import csv\n",
    "def save_csv(data, filename):\n",
    "    with open('Files/' + filename, 'w', newline='', encoding='utf-8') as f:\n",
    "        writer = csv.DictWriter(f, fieldnames=['title', 'content'])\n",
    "        writer.writeheader()\n",
    "        writer.writerows(data)\n",
    "\n",
    "# Αποθήκευση δεδομένων σε csv αρχείο\n",
    "save_csv(collected_data, 'wiki_data.csv')"
   ]
  },
  {
   "cell_type": "markdown",
   "metadata": {},
   "source": [
    "**ΕΔΩ ΘΑ ΕΞΗΓΗΣΟΥΜΕ ΤΙ ΖΗΤΑΕΙ ΤΟ ΟΡΟΣΗΜΟ**\n",
    "- Περιγραφή συνόλου δεδομένων \n",
    "- Περιγραφή της μεθοδολογίας συλλογής του. (crawl_wikipedia)"
   ]
  },
  {
   "cell_type": "markdown",
   "metadata": {},
   "source": [
    "## Βήμα 2: Προεπεξεργασία Κειμένου (Text Processing)"
   ]
  },
  {
   "cell_type": "markdown",
   "metadata": {},
   "source": [
    "### Αφαιρεση πηγών (π.χ. [1])"
   ]
  },
  {
   "cell_type": "code",
   "execution_count": 7,
   "metadata": {},
   "outputs": [],
   "source": [
    "import re \n",
    "for d in collected_data:\n",
    "    d['content'] = re.sub(r\"\\[\\d+\\]\", \"\", d['content']) # regex για αντικατάσταση πηγών με κενό"
   ]
  },
  {
   "cell_type": "markdown",
   "metadata": {},
   "source": [
    "### Αφαίρεση σημείων στίξης"
   ]
  },
  {
   "cell_type": "code",
   "execution_count": 8,
   "metadata": {},
   "outputs": [],
   "source": [
    "import string\n",
    "\n",
    "for punct in string.punctuation:\n",
    "    for d in collected_data:\n",
    "        d['content'] = d['content'].replace(punct, '') # αφαίρεση σημείων στίξης"
   ]
  },
  {
   "cell_type": "markdown",
   "metadata": {},
   "source": [
    "### Tokenization and Stemming"
   ]
  },
  {
   "cell_type": "code",
   "execution_count": 12,
   "metadata": {},
   "outputs": [
    {
     "name": "stdout",
     "output_type": "stream",
     "text": [
      "['scienc',\n",
      " 'is',\n",
      " 'a',\n",
      " 'systemat',\n",
      " 'disciplin',\n",
      " 'that',\n",
      " 'build',\n",
      " 'and',\n",
      " 'organis',\n",
      " 'knowledg',\n",
      " 'in',\n",
      " 'the',\n",
      " 'form',\n",
      " 'of',\n",
      " 'testabl']\n"
     ]
    }
   ],
   "source": [
    "from nltk.tokenize import word_tokenize\n",
    "import nltk\n",
    "from pprint import pprint\n",
    "porter = nltk.PorterStemmer()\n",
    "\n",
    "tokens = []\n",
    "stemmed_data = []\n",
    "\n",
    "for d in collected_data: # For each article\n",
    "    tokens = word_tokenize(d['content'])  # Tokenize content \n",
    "    stemmed_tokens = [porter.stem(t) for t in tokens]  # Stem each token\n",
    "    stemmed_data.append({\n",
    "        \"title\": d[\"title\"],\n",
    "        \"stemmed_tokens\": stemmed_tokens\n",
    "    })\n",
    "pprint(stemmed_data[0][\"stemmed_tokens\"][:15])  # Pretty print first 15 stemmed tokens of the first article\n"
   ]
  },
  {
   "cell_type": "markdown",
   "metadata": {},
   "source": [
    "### Stop-word removal"
   ]
  },
  {
   "cell_type": "code",
   "execution_count": 10,
   "metadata": {},
   "outputs": [
    {
     "data": {
      "text/plain": [
       "['scienc',\n",
       " 'systemat',\n",
       " 'disciplin',\n",
       " 'build',\n",
       " 'organis',\n",
       " 'knowledg',\n",
       " 'form',\n",
       " 'testabl',\n",
       " 'hypothes',\n",
       " 'predict',\n",
       " 'univers',\n",
       " 'modern',\n",
       " 'scienc',\n",
       " 'typic',\n",
       " 'divid']"
      ]
     },
     "execution_count": 10,
     "metadata": {},
     "output_type": "execute_result"
    }
   ],
   "source": [
    "import nltk\n",
    "stopwords = nltk.corpus.stopwords.words('english')\n",
    "\n",
    "cleaned_data = []\n",
    "cleaned_data_for_csv = []\n",
    "\n",
    "for d in stemmed_data: # or lemmed_data (one of the two) - Επιλογή μεταξύ stemming και lemmatization??\n",
    "    filtered_tokens = [t for t in d['stemmed_tokens'] if t.lower() not in stopwords]\n",
    "    cleaned_data.append({\n",
    "        \"title\": d[\"title\"],\n",
    "        \"cleaned_tokens\": filtered_tokens\n",
    "    })\n",
    "    cleaned_data_for_csv.append({\n",
    "        \"title\": d[\"title\"],\n",
    "        \"content\": \" \".join(filtered_tokens)\n",
    "    })\n",
    "pprint(cleaned_data[0][\"cleaned_tokens\"][:15])"
   ]
  },
  {
   "cell_type": "markdown",
   "metadata": {},
   "source": [
    "### Αποθήκευση σε .json και .csv "
   ]
  },
  {
   "cell_type": "code",
   "execution_count": 11,
   "metadata": {},
   "outputs": [],
   "source": [
    "save_json(cleaned_data, 'wiki_data_clean.json')\n",
    "save_csv(cleaned_data_for_csv, 'wiki_data_clean.csv')"
   ]
  },
  {
   "cell_type": "markdown",
   "metadata": {},
   "source": [
    "**ΕΔΩ ΘΑ ΕΞΗΓΗΣΟΥΜΕ ΤΙ ΖΗΤΑΕΙ ΤΟ ΟΡΟΣΗΜΟ**\n",
    "- Το «καθαρισμένο» σύνολο δεδομένων\n",
    "- Περιγραφή των εργασιών που επιλέχθηκαν"
   ]
  },
  {
   "cell_type": "markdown",
   "metadata": {},
   "source": [
    "## Βήμα 3: Ευρετήριο (Indexing)"
   ]
  },
  {
   "cell_type": "code",
   "execution_count": null,
   "metadata": {},
   "outputs": [
    {
     "data": {
      "text/html": [
       "<div>\n",
       "<style scoped>\n",
       "    .dataframe tbody tr th:only-of-type {\n",
       "        vertical-align: middle;\n",
       "    }\n",
       "\n",
       "    .dataframe tbody tr th {\n",
       "        vertical-align: top;\n",
       "    }\n",
       "\n",
       "    .dataframe thead th {\n",
       "        text-align: right;\n",
       "    }\n",
       "</style>\n",
       "<table border=\"1\" class=\"dataframe\">\n",
       "  <thead>\n",
       "    <tr style=\"text-align: right;\">\n",
       "      <th></th>\n",
       "      <th>comput</th>\n",
       "      <th>machin</th>\n",
       "      <th>program</th>\n",
       "      <th>automat</th>\n",
       "      <th>carri</th>\n",
       "      <th>sequenc</th>\n",
       "      <th>arithmet</th>\n",
       "      <th>logic</th>\n",
       "      <th>oper</th>\n",
       "      <th>modern</th>\n",
       "      <th>digit</th>\n",
       "      <th>electron</th>\n",
       "      <th>perform</th>\n",
       "      <th>gener</th>\n",
       "      <th>set</th>\n",
       "    </tr>\n",
       "  </thead>\n",
       "  <tbody>\n",
       "    <tr>\n",
       "      <th>Computer</th>\n",
       "      <td>249</td>\n",
       "      <td>58</td>\n",
       "      <td>87</td>\n",
       "      <td>6</td>\n",
       "      <td>5</td>\n",
       "      <td>6</td>\n",
       "      <td>12</td>\n",
       "      <td>14</td>\n",
       "      <td>34</td>\n",
       "      <td>27</td>\n",
       "      <td>17</td>\n",
       "      <td>24</td>\n",
       "      <td>25</td>\n",
       "      <td>15</td>\n",
       "      <td>10</td>\n",
       "    </tr>\n",
       "    <tr>\n",
       "      <th>Engineering</th>\n",
       "      <td>13</td>\n",
       "      <td>28</td>\n",
       "      <td>1</td>\n",
       "      <td>0</td>\n",
       "      <td>1</td>\n",
       "      <td>3</td>\n",
       "      <td>0</td>\n",
       "      <td>3</td>\n",
       "      <td>10</td>\n",
       "      <td>9</td>\n",
       "      <td>2</td>\n",
       "      <td>14</td>\n",
       "      <td>4</td>\n",
       "      <td>6</td>\n",
       "      <td>2</td>\n",
       "    </tr>\n",
       "    <tr>\n",
       "      <th>Science</th>\n",
       "      <td>9</td>\n",
       "      <td>3</td>\n",
       "      <td>2</td>\n",
       "      <td>0</td>\n",
       "      <td>2</td>\n",
       "      <td>0</td>\n",
       "      <td>1</td>\n",
       "      <td>6</td>\n",
       "      <td>1</td>\n",
       "      <td>17</td>\n",
       "      <td>0</td>\n",
       "      <td>1</td>\n",
       "      <td>4</td>\n",
       "      <td>12</td>\n",
       "      <td>6</td>\n",
       "    </tr>\n",
       "    <tr>\n",
       "      <th>Technology</th>\n",
       "      <td>12</td>\n",
       "      <td>8</td>\n",
       "      <td>1</td>\n",
       "      <td>0</td>\n",
       "      <td>3</td>\n",
       "      <td>0</td>\n",
       "      <td>0</td>\n",
       "      <td>0</td>\n",
       "      <td>0</td>\n",
       "      <td>7</td>\n",
       "      <td>2</td>\n",
       "      <td>1</td>\n",
       "      <td>0</td>\n",
       "      <td>5</td>\n",
       "      <td>1</td>\n",
       "    </tr>\n",
       "  </tbody>\n",
       "</table>\n",
       "</div>"
      ],
      "text/plain": [
       "             comput  machin  program  automat  carri  sequenc  arithmet  \\\n",
       "Computer        249      58       87        6      5        6        12   \n",
       "Engineering      13      28        1        0      1        3         0   \n",
       "Science           9       3        2        0      2        0         1   \n",
       "Technology       12       8        1        0      3        0         0   \n",
       "\n",
       "             logic  oper  modern  digit  electron  perform  gener  set  \n",
       "Computer        14    34      27     17        24       25     15   10  \n",
       "Engineering      3    10       9      2        14        4      6    2  \n",
       "Science          6     1      17      0         1        4     12    6  \n",
       "Technology       0     0       7      2         1        0      5    1  "
      ]
     },
     "execution_count": 33,
     "metadata": {},
     "output_type": "execute_result"
    }
   ],
   "source": [
    "import json\n",
    "import pandas as pd\n",
    "\n",
    "with open('Files/wiki_data_clean.json', 'r') as file:\n",
    "    wiki_data = json.load(file)\n",
    "\n",
    "corpus = {}\n",
    "for i, entry in enumerate(wiki_data):\n",
    "    title = entry.get(\"title\", f\"sent{i}\") \n",
    "    tokens = entry.get(\"cleaned_tokens\", [])\n",
    "    corpus[title] = {token: tokens.count(token) for token in tokens}\n",
    "\n",
    "df = pd.DataFrame.from_records(corpus).fillna(0).astype(int).T\n",
    "\n",
    "df.iloc[:, :15]"
   ]
  },
  {
   "cell_type": "code",
   "execution_count": 36,
   "metadata": {},
   "outputs": [],
   "source": [
    "df.to_csv('Files/wiki_data_clean_matrix.csv')\n",
    "df.to_json('Files/wiki_data_clean_matrix.json', indent=4)"
   ]
  },
  {
   "cell_type": "markdown",
   "metadata": {},
   "source": [
    "**ΕΔΩ ΘΑ ΕΞΗΓΗΣΟΥΜΕ ΤΙ ΖΗΤΑΕΙ ΤΟ ΟΡΟΣΗΜΟ** \n",
    "- Περιγραφή σχεδιασμου του αντεστραμμένου ευρετηρίου\n",
    "- Περιγραφή υλοποιήσης του αντεστραμμένου ευρετηρίου"
   ]
  },
  {
   "cell_type": "markdown",
   "metadata": {},
   "source": [
    "## Βήμα 4: Μηχανή αναζήτησης (Search Engine)"
   ]
  },
  {
   "cell_type": "code",
   "execution_count": null,
   "metadata": {},
   "outputs": [],
   "source": []
  }
 ],
 "metadata": {
  "kernelspec": {
   "display_name": "base",
   "language": "python",
   "name": "python3"
  },
  "language_info": {
   "codemirror_mode": {
    "name": "ipython",
    "version": 3
   },
   "file_extension": ".py",
   "mimetype": "text/x-python",
   "name": "python",
   "nbconvert_exporter": "python",
   "pygments_lexer": "ipython3",
   "version": "3.11.7"
  }
 },
 "nbformat": 4,
 "nbformat_minor": 2
}

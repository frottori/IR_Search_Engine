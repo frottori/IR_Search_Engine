{
 "cells": [
  {
   "cell_type": "markdown",
   "metadata": {},
   "source": [
    "# Project - Search Engine"
   ]
  },
  {
   "cell_type": "markdown",
   "metadata": {},
   "source": [
    "## Βήμα 1: Συλλογή Δεδομένων"
   ]
  },
  {
   "cell_type": "markdown",
   "metadata": {},
   "source": [
    "### H συνάρτηση Crawl"
   ]
  },
  {
   "cell_type": "code",
   "execution_count": 94,
   "metadata": {},
   "outputs": [],
   "source": [
    "import requests\n",
    "from bs4 import BeautifulSoup\n",
    "\n",
    "def crawl_wikipedia(url):\n",
    "    data = []\n",
    "    response = requests.get(url)\n",
    "    if response.status_code == 200:\n",
    "        soup = BeautifulSoup(response.text, 'html.parser')\n",
    "\n",
    "        # Εξαγωγή τίτλου και κειμένου\n",
    "        title = soup.find(\"h1\").text # βρίσκει h1 html tag (header1) και επιστρέφει το κείμενο του\n",
    "        paragraphs = [p.text for p in soup.find_all(\"p\")] # βρίσκει όλα τα p html tags (paragraph) και επιστρέφει το κείμενο τους\n",
    "        content = \"\\n\".join(paragraphs) # διαχωριστής των παραγράφων το σύμβολο \" | \"\n",
    "        data.append({'title': title, 'content': content}) # προσθήκη τίτλου και περιεχομένου στη λίστα data\n",
    "    else: \n",
    "        print('Error:' + response.status_code)\n",
    "    \n",
    "    return data"
   ]
  },
  {
   "cell_type": "markdown",
   "metadata": {},
   "source": [
    "### Χρηση της συνάρτησης Crawl"
   ]
  },
  {
   "cell_type": "code",
   "execution_count": 95,
   "metadata": {},
   "outputs": [],
   "source": [
    "# Λίστα άρθρων για συλλογή \n",
    "articles = [\"Science\", \"Technology\", \"Engineering\", \"Computer\", \"Math\", \"Robotics\", \"Machine Learning\",\n",
    "            \"History\", \"Art\", \"Philosophy\", \"Literature\", \"Psychology\", \"Politics\", \n",
    "            \"Economics\", \"Sociology\"]\n",
    "collected_data = []\n",
    "\n",
    "for article in articles:\n",
    "    url = 'https://en.wikipedia.org/wiki/' + article\n",
    "    collected_data.extend(crawl_wikipedia(url))\n",
    "    for d in collected_data:\n",
    "        words = d['content'].split()\n",
    "        d['content'] = \" \".join(words[:1000]) # each article is limited to 1000 words"
   ]
  },
  {
   "cell_type": "code",
   "execution_count": 96,
   "metadata": {},
   "outputs": [
    {
     "name": "stdout",
     "output_type": "stream",
     "text": [
      "Number of articles collected: 15\n",
      "1.Article Title: Science\n",
      "  Content (first 100 words):\n",
      "('Science is a systematic discipline that builds and organises knowledge in '\n",
      " 'the form of testable hypotheses and predictions about the universe.[1][2] '\n",
      " 'Modern science is typically divided into two or three major branches:[3] the '\n",
      " 'natural sciences (e.g., physics, chemistry, and biology), which study the '\n",
      " 'physical world; and the behavioural sciences (e.g., economics, psychology, '\n",
      " 'and sociology), which study individuals and societies.[4][5] The formal '\n",
      " 'sciences (e.g., logic, mathematics, and theoretical computer science), which '\n",
      " 'study formal systems governed by axioms and rules,[6][7] are sometimes '\n",
      " 'described as being sciences as well; however, they are often regarded as a '\n",
      " 'separate field because they rely on deductive')\n"
     ]
    }
   ],
   "source": [
    "from pprint import pprint\n",
    "def print_article(collected_data):\n",
    "    print(\"Number of articles collected:\", len(collected_data))\n",
    "    print(f\"1.Article Title: {collected_data[0]['title']}\")\n",
    "    print(\"  Content (first 100 words):\")\n",
    "    pprint(\" \".join(collected_data[0]['content'].split()[:100]))\n",
    "print_article(collected_data)"
   ]
  },
  {
   "cell_type": "markdown",
   "metadata": {},
   "source": [
    "### Αποθήκευση σε JSON"
   ]
  },
  {
   "cell_type": "code",
   "execution_count": 97,
   "metadata": {},
   "outputs": [],
   "source": [
    "import json\n",
    "def save_json(data, filename):\n",
    "    with open('Files/' + filename, 'w', encoding='utf-8') as f:\n",
    "        json.dump(data, f, ensure_ascii=False, indent=4)\n",
    "        \n",
    "# Αποθήκευση δεδομένων σε json αρχείο\n",
    "save_json(collected_data, 'wiki_data.json')"
   ]
  },
  {
   "cell_type": "markdown",
   "metadata": {},
   "source": [
    "### Αποθήκευση σε CSV "
   ]
  },
  {
   "cell_type": "code",
   "execution_count": 99,
   "metadata": {},
   "outputs": [],
   "source": [
    "import csv\n",
    "def save_csv(data, filename):\n",
    "    with open('Files/' + filename, 'w', newline='', encoding='utf-8') as f:\n",
    "        writer = csv.DictWriter(f, fieldnames=['title', 'content'])\n",
    "        writer.writeheader()\n",
    "        writer.writerows(data)\n",
    "\n",
    "# Αποθήκευση δεδομένων σε csv αρχείο\n",
    "save_csv(collected_data, 'wiki_data.csv')"
   ]
  },
  {
   "cell_type": "markdown",
   "metadata": {},
   "source": [
    "## Βήμα 2: Προεπεξεργασία Κειμένου (Text Processing)"
   ]
  },
  {
   "cell_type": "markdown",
   "metadata": {},
   "source": [
    "### Αφαιρεση πηγών (π.χ. [1])"
   ]
  },
  {
   "cell_type": "code",
   "execution_count": 100,
   "metadata": {},
   "outputs": [
    {
     "name": "stdout",
     "output_type": "stream",
     "text": [
      "Number of articles collected: 15\n",
      "1.Article Title: Science\n",
      "  Content (first 100 words):\n",
      "('Science is a systematic discipline that builds and organises knowledge in '\n",
      " 'the form of testable hypotheses and predictions about the universe. Modern '\n",
      " 'science is typically divided into two or three major branches: the natural '\n",
      " 'sciences (e.g., physics, chemistry, and biology), which study the physical '\n",
      " 'world; and the behavioural sciences (e.g., economics, psychology, and '\n",
      " 'sociology), which study individuals and societies. The formal sciences '\n",
      " '(e.g., logic, mathematics, and theoretical computer science), which study '\n",
      " 'formal systems governed by axioms and rules, are sometimes described as '\n",
      " 'being sciences as well; however, they are often regarded as a separate field '\n",
      " 'because they rely on deductive')\n"
     ]
    }
   ],
   "source": [
    "from pprint import pprint\n",
    "import re \n",
    "for d in collected_data:\n",
    "    d['content'] = re.sub(r\"\\[\\d+\\]\", \"\", d['content']) # regex για αντικατάσταση πηγών με κενό\n",
    "\n",
    "print_article(collected_data)"
   ]
  },
  {
   "cell_type": "markdown",
   "metadata": {},
   "source": [
    "### Αφαίρεση σημείων στίξης"
   ]
  },
  {
   "cell_type": "code",
   "execution_count": 101,
   "metadata": {},
   "outputs": [
    {
     "name": "stdout",
     "output_type": "stream",
     "text": [
      "Number of articles collected: 15\n",
      "1.Article Title: Science\n",
      "  Content (first 100 words):\n",
      "('Science is a systematic discipline that builds and organises knowledge in '\n",
      " 'the form of testable hypotheses and predictions about the universe Modern '\n",
      " 'science is typically divided into two or three major branches the natural '\n",
      " 'sciences eg physics chemistry and biology which study the physical world and '\n",
      " 'the behavioural sciences eg economics psychology and sociology which study '\n",
      " 'individuals and societies The formal sciences eg logic mathematics and '\n",
      " 'theoretical computer science which study formal systems governed by axioms '\n",
      " 'and rules are sometimes described as being sciences as well however they are '\n",
      " 'often regarded as a separate field because they rely on deductive')\n"
     ]
    }
   ],
   "source": [
    "import string\n",
    "\n",
    "for punct in string.punctuation:\n",
    "    for d in collected_data:\n",
    "        d['content'] = d['content'].replace(punct, '') # αφαίρεση σημείων στίξης\n",
    "print_article(collected_data)"
   ]
  },
  {
   "cell_type": "markdown",
   "metadata": {},
   "source": [
    "### Tokenization and Stemming"
   ]
  },
  {
   "cell_type": "code",
   "execution_count": 102,
   "metadata": {},
   "outputs": [],
   "source": [
    "from nltk.tokenize import word_tokenize\n",
    "import nltk\n",
    "from pprint import pprint\n",
    "porter = nltk.PorterStemmer()\n",
    "\n",
    "tokens = []\n",
    "stemmed_data = []\n",
    "\n",
    "for d in collected_data: # For each article\n",
    "    tokens = word_tokenize(d['content'])  # Tokenize content \n",
    "    stemmed_tokens = [porter.stem(t) for t in tokens]  # Stem each token\n",
    "    stemmed_data.append({\n",
    "        \"title\": d[\"title\"],\n",
    "        \"stemmed_tokens\": stemmed_tokens\n",
    "    })"
   ]
  },
  {
   "cell_type": "code",
   "execution_count": 103,
   "metadata": {},
   "outputs": [
    {
     "name": "stdout",
     "output_type": "stream",
     "text": [
      "1. Article Title: Science\n",
      "Tokens first 20 words: \n",
      "['scienc',\n",
      " 'is',\n",
      " 'a',\n",
      " 'systemat',\n",
      " 'disciplin',\n",
      " 'that',\n",
      " 'build',\n",
      " 'and',\n",
      " 'organis',\n",
      " 'knowledg',\n",
      " 'in',\n",
      " 'the',\n",
      " 'form',\n",
      " 'of',\n",
      " 'testabl',\n",
      " 'hypothes',\n",
      " 'and',\n",
      " 'predict',\n",
      " 'about',\n",
      " 'the']\n"
     ]
    }
   ],
   "source": [
    "def print_tokens(data, tokens):\n",
    "    print(f\"1. Article Title: {data[0]['title']}\")\n",
    "    print(\"Tokens first 20 words: \")\n",
    "    pprint(data[0][tokens][:20])\n",
    "print_tokens(stemmed_data, \"stemmed_tokens\")"
   ]
  },
  {
   "cell_type": "markdown",
   "metadata": {},
   "source": [
    "### Stop-word removal"
   ]
  },
  {
   "cell_type": "code",
   "execution_count": 104,
   "metadata": {},
   "outputs": [
    {
     "name": "stdout",
     "output_type": "stream",
     "text": [
      "1. Article Title: Science\n",
      "Tokens first 20 words: \n",
      "['scienc',\n",
      " 'systemat',\n",
      " 'disciplin',\n",
      " 'build',\n",
      " 'organis',\n",
      " 'knowledg',\n",
      " 'form',\n",
      " 'testabl',\n",
      " 'hypothes',\n",
      " 'predict',\n",
      " 'univers',\n",
      " 'modern',\n",
      " 'scienc',\n",
      " 'typic',\n",
      " 'divid',\n",
      " 'two',\n",
      " 'three',\n",
      " 'major',\n",
      " 'branch',\n",
      " 'natur']\n"
     ]
    }
   ],
   "source": [
    "import nltk\n",
    "stopwords = nltk.corpus.stopwords.words('english')\n",
    "\n",
    "cleaned_data = []\n",
    "cleaned_data_for_csv = []\n",
    "\n",
    "for d in stemmed_data: # or lemmed_data (one of the two) - Επιλογή μεταξύ stemming και lemmatization??\n",
    "    filtered_tokens = [t for t in d['stemmed_tokens'] if t.lower() not in stopwords]\n",
    "    cleaned_data.append({\n",
    "        \"title\": d[\"title\"],\n",
    "        \"cleaned_tokens\": filtered_tokens\n",
    "    })\n",
    "    cleaned_data_for_csv.append({\n",
    "        \"title\": d[\"title\"],\n",
    "        \"content\": \" \".join(filtered_tokens)\n",
    "    })\n",
    "    \n",
    "print_tokens(cleaned_data, \"cleaned_tokens\")"
   ]
  },
  {
   "cell_type": "markdown",
   "metadata": {},
   "source": [
    "### Αποθήκευση σε .json και .csv "
   ]
  },
  {
   "cell_type": "code",
   "execution_count": 105,
   "metadata": {},
   "outputs": [],
   "source": [
    "save_json(cleaned_data, 'wiki_data_cleaned.json')\n",
    "save_csv(cleaned_data_for_csv, 'wiki_data_cleaned.csv')"
   ]
  },
  {
   "cell_type": "markdown",
   "metadata": {},
   "source": [
    "## Βήμα 3: Ευρετήριο (Indexing)"
   ]
  },
  {
   "cell_type": "code",
   "execution_count": 106,
   "metadata": {},
   "outputs": [
    {
     "name": "stdout",
     "output_type": "stream",
     "text": [
      "First 15 columns:\n"
     ]
    },
    {
     "data": {
      "text/html": [
       "<div>\n",
       "<style scoped>\n",
       "    .dataframe tbody tr th:only-of-type {\n",
       "        vertical-align: middle;\n",
       "    }\n",
       "\n",
       "    .dataframe tbody tr th {\n",
       "        vertical-align: top;\n",
       "    }\n",
       "\n",
       "    .dataframe thead th {\n",
       "        text-align: right;\n",
       "    }\n",
       "</style>\n",
       "<table border=\"1\" class=\"dataframe\">\n",
       "  <thead>\n",
       "    <tr style=\"text-align: right;\">\n",
       "      <th></th>\n",
       "      <th>art</th>\n",
       "      <th>describ</th>\n",
       "      <th>divers</th>\n",
       "      <th>rang</th>\n",
       "      <th>cultur</th>\n",
       "      <th>activ</th>\n",
       "      <th>center</th>\n",
       "      <th>around</th>\n",
       "      <th>work</th>\n",
       "      <th>util</th>\n",
       "      <th>creativ</th>\n",
       "      <th>imagin</th>\n",
       "      <th>talent</th>\n",
       "      <th>expect</th>\n",
       "      <th>evok</th>\n",
       "    </tr>\n",
       "  </thead>\n",
       "  <tbody>\n",
       "    <tr>\n",
       "      <th>Art</th>\n",
       "      <td>54</td>\n",
       "      <td>2</td>\n",
       "      <td>1</td>\n",
       "      <td>1</td>\n",
       "      <td>3</td>\n",
       "      <td>2</td>\n",
       "      <td>1</td>\n",
       "      <td>1</td>\n",
       "      <td>6</td>\n",
       "      <td>1</td>\n",
       "      <td>10</td>\n",
       "      <td>1</td>\n",
       "      <td>1</td>\n",
       "      <td>1</td>\n",
       "      <td>1</td>\n",
       "    </tr>\n",
       "    <tr>\n",
       "      <th>Computer</th>\n",
       "      <td>0</td>\n",
       "      <td>0</td>\n",
       "      <td>0</td>\n",
       "      <td>2</td>\n",
       "      <td>0</td>\n",
       "      <td>0</td>\n",
       "      <td>0</td>\n",
       "      <td>1</td>\n",
       "      <td>1</td>\n",
       "      <td>0</td>\n",
       "      <td>0</td>\n",
       "      <td>0</td>\n",
       "      <td>0</td>\n",
       "      <td>0</td>\n",
       "      <td>0</td>\n",
       "    </tr>\n",
       "    <tr>\n",
       "      <th>Economics</th>\n",
       "      <td>0</td>\n",
       "      <td>4</td>\n",
       "      <td>1</td>\n",
       "      <td>1</td>\n",
       "      <td>0</td>\n",
       "      <td>0</td>\n",
       "      <td>0</td>\n",
       "      <td>0</td>\n",
       "      <td>1</td>\n",
       "      <td>0</td>\n",
       "      <td>0</td>\n",
       "      <td>0</td>\n",
       "      <td>0</td>\n",
       "      <td>1</td>\n",
       "      <td>0</td>\n",
       "    </tr>\n",
       "    <tr>\n",
       "      <th>Engineering</th>\n",
       "      <td>0</td>\n",
       "      <td>1</td>\n",
       "      <td>0</td>\n",
       "      <td>1</td>\n",
       "      <td>0</td>\n",
       "      <td>0</td>\n",
       "      <td>0</td>\n",
       "      <td>3</td>\n",
       "      <td>1</td>\n",
       "      <td>1</td>\n",
       "      <td>1</td>\n",
       "      <td>0</td>\n",
       "      <td>0</td>\n",
       "      <td>0</td>\n",
       "      <td>0</td>\n",
       "    </tr>\n",
       "    <tr>\n",
       "      <th>History</th>\n",
       "      <td>1</td>\n",
       "      <td>2</td>\n",
       "      <td>1</td>\n",
       "      <td>0</td>\n",
       "      <td>6</td>\n",
       "      <td>1</td>\n",
       "      <td>0</td>\n",
       "      <td>0</td>\n",
       "      <td>1</td>\n",
       "      <td>0</td>\n",
       "      <td>0</td>\n",
       "      <td>0</td>\n",
       "      <td>0</td>\n",
       "      <td>0</td>\n",
       "      <td>0</td>\n",
       "    </tr>\n",
       "    <tr>\n",
       "      <th>Literature</th>\n",
       "      <td>4</td>\n",
       "      <td>1</td>\n",
       "      <td>0</td>\n",
       "      <td>0</td>\n",
       "      <td>4</td>\n",
       "      <td>0</td>\n",
       "      <td>0</td>\n",
       "      <td>0</td>\n",
       "      <td>5</td>\n",
       "      <td>0</td>\n",
       "      <td>1</td>\n",
       "      <td>0</td>\n",
       "      <td>0</td>\n",
       "      <td>0</td>\n",
       "      <td>0</td>\n",
       "    </tr>\n",
       "    <tr>\n",
       "      <th>Machine learning</th>\n",
       "      <td>0</td>\n",
       "      <td>2</td>\n",
       "      <td>0</td>\n",
       "      <td>0</td>\n",
       "      <td>0</td>\n",
       "      <td>0</td>\n",
       "      <td>0</td>\n",
       "      <td>1</td>\n",
       "      <td>2</td>\n",
       "      <td>0</td>\n",
       "      <td>0</td>\n",
       "      <td>0</td>\n",
       "      <td>0</td>\n",
       "      <td>0</td>\n",
       "      <td>0</td>\n",
       "    </tr>\n",
       "    <tr>\n",
       "      <th>Mathematics</th>\n",
       "      <td>0</td>\n",
       "      <td>0</td>\n",
       "      <td>0</td>\n",
       "      <td>0</td>\n",
       "      <td>0</td>\n",
       "      <td>0</td>\n",
       "      <td>0</td>\n",
       "      <td>0</td>\n",
       "      <td>0</td>\n",
       "      <td>0</td>\n",
       "      <td>0</td>\n",
       "      <td>0</td>\n",
       "      <td>0</td>\n",
       "      <td>0</td>\n",
       "      <td>0</td>\n",
       "    </tr>\n",
       "    <tr>\n",
       "      <th>Philosophy</th>\n",
       "      <td>0</td>\n",
       "      <td>0</td>\n",
       "      <td>0</td>\n",
       "      <td>1</td>\n",
       "      <td>0</td>\n",
       "      <td>0</td>\n",
       "      <td>0</td>\n",
       "      <td>1</td>\n",
       "      <td>0</td>\n",
       "      <td>0</td>\n",
       "      <td>0</td>\n",
       "      <td>0</td>\n",
       "      <td>0</td>\n",
       "      <td>0</td>\n",
       "      <td>0</td>\n",
       "    </tr>\n",
       "    <tr>\n",
       "      <th>Politics</th>\n",
       "      <td>1</td>\n",
       "      <td>1</td>\n",
       "      <td>1</td>\n",
       "      <td>2</td>\n",
       "      <td>0</td>\n",
       "      <td>1</td>\n",
       "      <td>0</td>\n",
       "      <td>0</td>\n",
       "      <td>2</td>\n",
       "      <td>0</td>\n",
       "      <td>0</td>\n",
       "      <td>0</td>\n",
       "      <td>0</td>\n",
       "      <td>0</td>\n",
       "      <td>0</td>\n",
       "    </tr>\n",
       "    <tr>\n",
       "      <th>Psychology</th>\n",
       "      <td>0</td>\n",
       "      <td>0</td>\n",
       "      <td>0</td>\n",
       "      <td>2</td>\n",
       "      <td>0</td>\n",
       "      <td>2</td>\n",
       "      <td>1</td>\n",
       "      <td>0</td>\n",
       "      <td>5</td>\n",
       "      <td>0</td>\n",
       "      <td>0</td>\n",
       "      <td>0</td>\n",
       "      <td>0</td>\n",
       "      <td>0</td>\n",
       "      <td>0</td>\n",
       "    </tr>\n",
       "    <tr>\n",
       "      <th>Robotics</th>\n",
       "      <td>0</td>\n",
       "      <td>0</td>\n",
       "      <td>0</td>\n",
       "      <td>1</td>\n",
       "      <td>0</td>\n",
       "      <td>1</td>\n",
       "      <td>0</td>\n",
       "      <td>0</td>\n",
       "      <td>4</td>\n",
       "      <td>0</td>\n",
       "      <td>0</td>\n",
       "      <td>0</td>\n",
       "      <td>0</td>\n",
       "      <td>0</td>\n",
       "      <td>0</td>\n",
       "    </tr>\n",
       "    <tr>\n",
       "      <th>Science</th>\n",
       "      <td>0</td>\n",
       "      <td>1</td>\n",
       "      <td>0</td>\n",
       "      <td>0</td>\n",
       "      <td>0</td>\n",
       "      <td>2</td>\n",
       "      <td>0</td>\n",
       "      <td>1</td>\n",
       "      <td>2</td>\n",
       "      <td>0</td>\n",
       "      <td>0</td>\n",
       "      <td>0</td>\n",
       "      <td>0</td>\n",
       "      <td>0</td>\n",
       "      <td>0</td>\n",
       "    </tr>\n",
       "    <tr>\n",
       "      <th>Sociology</th>\n",
       "      <td>0</td>\n",
       "      <td>0</td>\n",
       "      <td>0</td>\n",
       "      <td>2</td>\n",
       "      <td>2</td>\n",
       "      <td>2</td>\n",
       "      <td>0</td>\n",
       "      <td>0</td>\n",
       "      <td>2</td>\n",
       "      <td>0</td>\n",
       "      <td>0</td>\n",
       "      <td>0</td>\n",
       "      <td>0</td>\n",
       "      <td>0</td>\n",
       "      <td>0</td>\n",
       "    </tr>\n",
       "    <tr>\n",
       "      <th>Technology</th>\n",
       "      <td>4</td>\n",
       "      <td>1</td>\n",
       "      <td>0</td>\n",
       "      <td>0</td>\n",
       "      <td>2</td>\n",
       "      <td>2</td>\n",
       "      <td>0</td>\n",
       "      <td>3</td>\n",
       "      <td>2</td>\n",
       "      <td>0</td>\n",
       "      <td>0</td>\n",
       "      <td>0</td>\n",
       "      <td>0</td>\n",
       "      <td>0</td>\n",
       "      <td>0</td>\n",
       "    </tr>\n",
       "  </tbody>\n",
       "</table>\n",
       "</div>"
      ],
      "text/plain": [
       "                  art  describ  divers  rang  cultur  activ  center  around  \\\n",
       "Art                54        2       1     1       3      2       1       1   \n",
       "Computer            0        0       0     2       0      0       0       1   \n",
       "Economics           0        4       1     1       0      0       0       0   \n",
       "Engineering         0        1       0     1       0      0       0       3   \n",
       "History             1        2       1     0       6      1       0       0   \n",
       "Literature          4        1       0     0       4      0       0       0   \n",
       "Machine learning    0        2       0     0       0      0       0       1   \n",
       "Mathematics         0        0       0     0       0      0       0       0   \n",
       "Philosophy          0        0       0     1       0      0       0       1   \n",
       "Politics            1        1       1     2       0      1       0       0   \n",
       "Psychology          0        0       0     2       0      2       1       0   \n",
       "Robotics            0        0       0     1       0      1       0       0   \n",
       "Science             0        1       0     0       0      2       0       1   \n",
       "Sociology           0        0       0     2       2      2       0       0   \n",
       "Technology          4        1       0     0       2      2       0       3   \n",
       "\n",
       "                  work  util  creativ  imagin  talent  expect  evok  \n",
       "Art                  6     1       10       1       1       1     1  \n",
       "Computer             1     0        0       0       0       0     0  \n",
       "Economics            1     0        0       0       0       1     0  \n",
       "Engineering          1     1        1       0       0       0     0  \n",
       "History              1     0        0       0       0       0     0  \n",
       "Literature           5     0        1       0       0       0     0  \n",
       "Machine learning     2     0        0       0       0       0     0  \n",
       "Mathematics          0     0        0       0       0       0     0  \n",
       "Philosophy           0     0        0       0       0       0     0  \n",
       "Politics             2     0        0       0       0       0     0  \n",
       "Psychology           5     0        0       0       0       0     0  \n",
       "Robotics             4     0        0       0       0       0     0  \n",
       "Science              2     0        0       0       0       0     0  \n",
       "Sociology            2     0        0       0       0       0     0  \n",
       "Technology           2     0        0       0       0       0     0  "
      ]
     },
     "execution_count": 106,
     "metadata": {},
     "output_type": "execute_result"
    }
   ],
   "source": [
    "import json\n",
    "import pandas as pd\n",
    "\n",
    "with open('Files/wiki_data_cleaned.json', 'r') as file:\n",
    "    wiki_data = json.load(file)\n",
    "\n",
    "corpus = {}\n",
    "for i, entry in enumerate(wiki_data):\n",
    "    title = entry.get(\"title\", f\"sent{i}\") \n",
    "    tokens = entry.get(\"cleaned_tokens\", [])\n",
    "    corpus[title] = {token: tokens.count(token) for token in tokens}\n",
    "\n",
    "df = pd.DataFrame.from_records(corpus).fillna(0).astype(int).T\n",
    "print(\"First 15 columns:\")\n",
    "df.iloc[:, :15]"
   ]
  },
  {
   "cell_type": "markdown",
   "metadata": {},
   "source": [
    "### Αποθήκευση σε .json και .csv "
   ]
  },
  {
   "cell_type": "code",
   "execution_count": 21,
   "metadata": {},
   "outputs": [],
   "source": [
    "df.to_csv('Files/wiki_data_inverted_index.csv')\n",
    "df.to_json('Files/wiki_data_inverted_index.json', indent=4)"
   ]
  },
  {
   "cell_type": "markdown",
   "metadata": {},
   "source": [
    "## Βήμα 4: Μηχανή αναζήτησης (Search Engine)"
   ]
  },
  {
   "cell_type": "markdown",
   "metadata": {},
   "source": [
    "### Επεξεργασία ερωτήματος (Query Processing)"
   ]
  },
  {
   "cell_type": "code",
   "execution_count": null,
   "metadata": {},
   "outputs": [],
   "source": []
  },
  {
   "cell_type": "markdown",
   "metadata": {},
   "source": [
    "### Κατάταξη αποτελεσμάτων (Ranking)"
   ]
  },
  {
   "cell_type": "code",
   "execution_count": null,
   "metadata": {},
   "outputs": [],
   "source": []
  },
  {
   "cell_type": "markdown",
   "metadata": {},
   "source": [
    "## Βήμα 5. Αξιολόγηση συστήματος:"
   ]
  },
  {
   "cell_type": "markdown",
   "metadata": {},
   "source": [
    "### Αξιολόγηση συστήματος με Precision, Recall, F1, MAP"
   ]
  },
  {
   "cell_type": "code",
   "execution_count": null,
   "metadata": {},
   "outputs": [],
   "source": []
  },
  {
   "cell_type": "markdown",
   "metadata": {},
   "source": [
    "## Διεπαφή Χρήστη (User Interface)"
   ]
  },
  {
   "cell_type": "code",
   "execution_count": 3,
   "metadata": {},
   "outputs": [],
   "source": [
    "import json\n",
    "user_queries = []\n",
    "user_relevant_docs = []\n",
    "\n",
    "# Load articles\n",
    "with open(\"Files/wiki_data_cleaned.json\", \"r\", encoding=\"utf-8\") as f:\n",
    "    articles = json.load(f)\n",
    "\n",
    "# Load inverted index\n",
    "with open(\"Files/wiki_data_inverted_index.json\", \"r\", encoding=\"utf-8\") as f:\n",
    "    inverted_index = json.load(f)"
   ]
  },
  {
   "cell_type": "code",
   "execution_count": null,
   "metadata": {},
   "outputs": [],
   "source": [
    "def user_interface():\n",
    "    print(\"Καλώς ήρθατε στη μηχανή αναζήτησης!\\n\")\n",
    "    while True:\n",
    "        print(\"1. Boolean Αναζήτηση\")\n",
    "        print(\"2. Αναζήτηση με κατάταξη TF-IDF\")\n",
    "        print(\"3. Αναζήτηση με κατάταξη BM25\")\n",
    "        print(\"4. Αξιολόγηση Συστήματος\")\n",
    "        print(\"5. Έξοδος\")\n",
    "\n",
    "        choice = input(\"Επιλέξτε επιλογή: \")\n",
    "\n",
    "        if choice == \"1\":\n",
    "            query = input(\"Εισάγετε το Boolean ερώτημά σας (π.χ. term1 AND term2): \")\n",
    "            results = boolean_query(query, inverted_index)\n",
    "            if results:\n",
    "                print(\"Αποτελέσματα:\")\n",
    "                for res in results:\n",
    "                    print(res)\n",
    "                user_queries.append(query)\n",
    "                user_relevant_docs.append(list(results))\n",
    "            else:\n",
    "                print(\"Δεν βρέθηκαν αποτελέσματα.\")\n"
   ]
  }
 ],
 "metadata": {
  "kernelspec": {
   "display_name": "base",
   "language": "python",
   "name": "python3"
  },
  "language_info": {
   "codemirror_mode": {
    "name": "ipython",
    "version": 3
   },
   "file_extension": ".py",
   "mimetype": "text/x-python",
   "name": "python",
   "nbconvert_exporter": "python",
   "pygments_lexer": "ipython3",
   "version": "3.11.7"
  }
 },
 "nbformat": 4,
 "nbformat_minor": 2
}
